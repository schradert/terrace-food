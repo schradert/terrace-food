{
 "metadata": {
  "language_info": {
   "codemirror_mode": {
    "name": "ipython",
    "version": 3
   },
   "file_extension": ".py",
   "mimetype": "text/x-python",
   "name": "python",
   "nbconvert_exporter": "python",
   "pygments_lexer": "ipython3",
   "version": "3.8.5-final"
  },
  "orig_nbformat": 2,
  "kernelspec": {
   "name": "Python 3.8.5 64-bit ('terrace-food': conda)",
   "display_name": "Python 3.8.5 64-bit ('terrace-food': conda)",
   "metadata": {
    "interpreter": {
     "hash": "400f40e1a897b372d5b423a17477b7ae080363d01dd3f6ca135635a68fc1b10d"
    }
   }
  }
 },
 "nbformat": 4,
 "nbformat_minor": 2,
 "cells": [
  {
   "cell_type": "code",
   "execution_count": 1,
   "metadata": {},
   "outputs": [
    {
     "output_type": "stream",
     "name": "stdout",
     "text": [
      "Files:\n1MLl_YWVKL2WSbq_9ilKXfjm-iNL3jHKr, Old Menus, ['16HNqeTaB6EVkupDW_ENv3xLs2A7Sk3Ml']\n1yHosBFzozVymojhEDvh_21dolPQSwMsy, Specialty Menus, ['16HNqeTaB6EVkupDW_ENv3xLs2A7Sk3Ml']\n1bFmPNmJtDprLHQaUtXSS1U2L27xushY-, Weekly Dinner Menu Week 58 R37.docx, ['16HNqeTaB6EVkupDW_ENv3xLs2A7Sk3Ml']\n1QU59fcXfoqJ_2y-Lhut3QFb5UfIyuNL6, Weekly Dinner Menu Week 56 R26.docx, ['16HNqeTaB6EVkupDW_ENv3xLs2A7Sk3Ml']\n1zuTV3ITRISQMccudIJFKiKuhlCE268d1, Weekly Dinner Menu Week 57 R42.docx, ['16HNqeTaB6EVkupDW_ENv3xLs2A7Sk3Ml']\n1gSdeDzg9CMWwlY07jZ3_yvPPvO4AUovC, Weekly Dinner Menu Week 47 R40 Spring.docx, ['16HNqeTaB6EVkupDW_ENv3xLs2A7Sk3Ml']\n17G5S1YIrmgPXn-itG9uqT6Kzn0GgAcB3, Weekly Dinner Menu Week 46 R31.docx, ['16HNqeTaB6EVkupDW_ENv3xLs2A7Sk3Ml']\n1WKQ8qQG6OU7qCO3ZSQ6KUj3CVtdVpuE4, Weekly Dinner Menu Week 46 R30 Form.docx, ['16HNqeTaB6EVkupDW_ENv3xLs2A7Sk3Ml']\n1Z7eiiNpGnBSbxloZe2J8URzjojOoqa-4, Weekly Dinner Menu Week 45 R40 Form.docx, ['16HNqeTaB6EVkupDW_ENv3xLs2A7Sk3Ml']\n1w5--TI2Nu6LvJ7fMosGAdEN9JFttemqy, Weekly Dinner Menu Week 43 R35.docx, ['16HNqeTaB6EVkupDW_ENv3xLs2A7Sk3Ml']\n1ohmGOvtvEBAqiaPFDDKGcMs95SUlB1Vs, Weekly Dinner Menu Week 44 R42.docx, ['16HNqeTaB6EVkupDW_ENv3xLs2A7Sk3Ml']\n1GPklNwmDJMF2I44iXvtdnLoML7DCQtlA, Weekly Dinner Menu Week 44 R39.docx, ['16HNqeTaB6EVkupDW_ENv3xLs2A7Sk3Ml']\n1sDTG2vnhqrwlM0qyotmqpTfxCcFD6mDA, Weekly Dinner Menu Week 41.docx, ['16HNqeTaB6EVkupDW_ENv3xLs2A7Sk3Ml']\n1F_jJJOxeaOFJQ3wCRF-S7C5sjnvHFc3V, Weekly Dinner Menu Week 40.docx, ['16HNqeTaB6EVkupDW_ENv3xLs2A7Sk3Ml']\n1PQO0PYPe5ly91ogstanKHYXoVNz6U11C, Weekly Dinner Menu Week 42.docx, ['16HNqeTaB6EVkupDW_ENv3xLs2A7Sk3Ml']\n13TqLmYDVwKti_MYF6iNw9qsXj_mea87-, Weekly Dinner Menu Week 39.docx, ['16HNqeTaB6EVkupDW_ENv3xLs2A7Sk3Ml']\n1SB2H4NXB5gzFKyRuEC2sivBjfJDKMqg4, Weekly Dinner Menu Week 37A.docx, ['16HNqeTaB6EVkupDW_ENv3xLs2A7Sk3Ml']\n1K5kJ-Lz4fUxOufAAw8PwrvfT0BRuq62f, Weekly Dinner Menu Week 38.docx, ['16HNqeTaB6EVkupDW_ENv3xLs2A7Sk3Ml']\n1ktbKwdHf_FTcO4eIb4JukJ9SQKaiqErN, Weekly Dinner Menu Week 18.docx, ['16HNqeTaB6EVkupDW_ENv3xLs2A7Sk3Ml']\n1GOPLZIVGs-SZlYxJzAZbRFyoCl6Ge2p6, Weekly Dinner Menu Week 35.docx, ['16HNqeTaB6EVkupDW_ENv3xLs2A7Sk3Ml']\n1Lh975m-sdbJD-cbB0R8ItVHDh0VTRwgi, Weekly Dinner Menu Week 37.docx, ['16HNqeTaB6EVkupDW_ENv3xLs2A7Sk3Ml']\n1vcmMfadk-n7ZdWXw7zVJPVufCp49Sgum, Weekly Dinner Menu Week 22.docx, ['16HNqeTaB6EVkupDW_ENv3xLs2A7Sk3Ml']\n18shPcvogMLYu-b9asG1V4Wxlx9hxcIRr, Weekly Dinner Menu Week 31.docx, ['16HNqeTaB6EVkupDW_ENv3xLs2A7Sk3Ml']\n1mRApaSFuWhF7oqMv3O-QX65pzGYUkQN-, Weekly Dinner Menu Week 21.docx, ['16HNqeTaB6EVkupDW_ENv3xLs2A7Sk3Ml']\n1LNaduI03DtrJUyn3VO_uq7__bP-b-WQr, Weekly Dinner Menu Week 20.docx, ['16HNqeTaB6EVkupDW_ENv3xLs2A7Sk3Ml']\n1Xuo32AEhVtga0CQHpEacuX6fziJsspq1, Weekly Dinner Menu Week 14.docx, ['16HNqeTaB6EVkupDW_ENv3xLs2A7Sk3Ml']\n17N7bR697AHCjD56CiUTaJ_KwNLOtewWT, Weekly Dinner Menu Week 7.docx, ['16HNqeTaB6EVkupDW_ENv3xLs2A7Sk3Ml']\n1H0GrAsSdhaWCXNQ4sS8VjuNaZha_yyNa, Weekly Dinner Menu Week 17.docx, ['16HNqeTaB6EVkupDW_ENv3xLs2A7Sk3Ml']\n1XB-ozFA40ST8V3yk0jPhG5tcicJ8vNhE, Weekly Dinner Menu Week 19.docx, ['16HNqeTaB6EVkupDW_ENv3xLs2A7Sk3Ml']\n1HUY0UzgqOsOz9Zld3H60LkENU5uTIVma, Weekly Dinner Menu Week 16.docx, ['16HNqeTaB6EVkupDW_ENv3xLs2A7Sk3Ml']\n19wkSGLjbZiLbV_LkJ-X34pWJwoGRA0CN, Weekly Dinner Menu Week 5.docx, ['16HNqeTaB6EVkupDW_ENv3xLs2A7Sk3Ml']\n11hTVU6gslAKgurqFgP7Z9UUP74oADhFK, Weekly Dinner Menu Week 12.docx, ['16HNqeTaB6EVkupDW_ENv3xLs2A7Sk3Ml']\n1vRasUw7D5UW8w-f8lBt1POdqWZ_rl41a, Weekly Dinner Menu Week 15.docx, ['16HNqeTaB6EVkupDW_ENv3xLs2A7Sk3Ml']\n1HA-Wdz8S_8Ayx_HSMGjBAED0IcV6mrqs, Weekly Dinner Menu Week 13.docx, ['16HNqeTaB6EVkupDW_ENv3xLs2A7Sk3Ml']\n1JwEZYvlONGsp81EAcy-4-rhHAVg5rhzq, Weekly Dinner Menu Week 10.docx, ['16HNqeTaB6EVkupDW_ENv3xLs2A7Sk3Ml']\n1AUQbJ41sb_s7FYWFywKkLzThRM7uBmAL, Weekly Dinner Menu Week 9.docx, ['16HNqeTaB6EVkupDW_ENv3xLs2A7Sk3Ml']\n1QJAs7DbjnLuiF2Ba-qj_r1aF4VBwx1hB, Weekly Dinner Menu Week 8.docx, ['16HNqeTaB6EVkupDW_ENv3xLs2A7Sk3Ml']\n1zm2E-aKUgQijfPATrOwYDnw5gMovelLe, Weekly Dinner Menu Week 2.docx, ['16HNqeTaB6EVkupDW_ENv3xLs2A7Sk3Ml']\n1L2L8HrgFc7uSJgxosWp4cZnX5c-mxWhw, Weekly Dinner Menu Week 6.docx, ['16HNqeTaB6EVkupDW_ENv3xLs2A7Sk3Ml']\n1WuGWV6Xvw1PNcTQYvZzIiwzN3nylOlHs, Weekly Dinner Menu Week 1.docx, ['16HNqeTaB6EVkupDW_ENv3xLs2A7Sk3Ml']\n1846FZFAyhVYyyK4EiefITVjH2HERW8sF, Weekly Dinner Menu Week 4.docx, ['16HNqeTaB6EVkupDW_ENv3xLs2A7Sk3Ml']\n1WHYBKx99Z0TmDZZveQk6PvO72Vi78NB-, Weekly Dinner Menu Week 3.docx, ['16HNqeTaB6EVkupDW_ENv3xLs2A7Sk3Ml']\n1jG2_CbPduaEdspYPd57Nt4Ejy84l_qKl, Weekly Dinner Menu Week 46 R30.docx, ['16HNqeTaB6EVkupDW_ENv3xLs2A7Sk3Ml']\n1qj8PmV97SYGSzDFQmzngCtzxkAbBdjhB, Weekly Dinner Menu Week 38 R27.docx, ['16HNqeTaB6EVkupDW_ENv3xLs2A7Sk3Ml']\n1gspGUK0R3c1PxWbyoBrVSg3B2HMiHb9H, Weekly Dinner Menu Week 41 R34C.docx, ['16HNqeTaB6EVkupDW_ENv3xLs2A7Sk3Ml']\n1bDsS4rd5jqf0hyy2LP4lG-xv4_KR3it4, Weekly Dinner Menu Week 41 R34 C.docx, ['16HNqeTaB6EVkupDW_ENv3xLs2A7Sk3Ml']\n1pFydZua5Lpav7d_XqWkBcQ-P7O9f19P4, Weekly Dinner Menu Week 41 R34S.docx, ['16HNqeTaB6EVkupDW_ENv3xLs2A7Sk3Ml']\n1ZM9epcWCfyif0BLEjZBnGC1Y_UoPvJw5, Weekly Dinner Menu Week 50 R24.docx, ['16HNqeTaB6EVkupDW_ENv3xLs2A7Sk3Ml']\n1rrzBBZLlJTSJ8fhuPoMIEOShEO3edRBD, Weekly Dinner Menu Week 50 R35.docx, ['16HNqeTaB6EVkupDW_ENv3xLs2A7Sk3Ml']\n1hIuyA23rDn9EQydmZvLucXylxKFFFKd5, Weekly Dinner Menu Week 55 R28.docx, ['16HNqeTaB6EVkupDW_ENv3xLs2A7Sk3Ml']\n1Imxc5ZObCkrDAr7a1OpryUND4wHjN-5d, Weekly Dinner Menu Week 41 R34T.docx, ['16HNqeTaB6EVkupDW_ENv3xLs2A7Sk3Ml']\n1-GnkHJxf-p_H7erxBbhdgoEAsUxev2QK, Weekly Dinner Menu Week 52 R35.docx, ['16HNqeTaB6EVkupDW_ENv3xLs2A7Sk3Ml']\n1I4UKdyn-0kkgqUdav2OBW0nUM17YZTYt, Weekly Dinner Menu Week 54 R26.docx, ['16HNqeTaB6EVkupDW_ENv3xLs2A7Sk3Ml']\n1XftVGk_V613tlkayADzl5Oq7B4wtG1-D, Weekly Dinner Menu Week 30.docx, ['16HNqeTaB6EVkupDW_ENv3xLs2A7Sk3Ml']\n1_G573YUikHcx8p2WVIjGNyEeRHNSzVoY, Weekly Dinner Menu Week 55 R28a.docx, ['16HNqeTaB6EVkupDW_ENv3xLs2A7Sk3Ml']\n1d0cR1zqNmwesUOhuhvhtEWs91qdnXQF7, Weekly Dinner Menu Week 57.docx, ['16HNqeTaB6EVkupDW_ENv3xLs2A7Sk3Ml']\n1f5YBmUhwIzSs8QYmMzrRUPchseJcoTf3, Weekly Dinner Menu Week 37 R23.docx, ['16HNqeTaB6EVkupDW_ENv3xLs2A7Sk3Ml']\n1EdIXVHtyTdIgu8VQLkYs5qkRCaMt8nIh, Weekly Dinner Menu Week 24B.docx, ['16HNqeTaB6EVkupDW_ENv3xLs2A7Sk3Ml']\n1oL8LPIcwWF5fAL-DoZBYykYKFkG17CYp, Weekly Dinner Menu Week 24.docx, ['16HNqeTaB6EVkupDW_ENv3xLs2A7Sk3Ml']\n1cyDLuTomNC_oU0QHIIPYSgTUKVNgNItM, Weekly Dinner Menu Week 41 R24.docx, ['16HNqeTaB6EVkupDW_ENv3xLs2A7Sk3Ml']\n128Ui0iyEMm8bi-c8jHWULPgCG2nB9wLI, Weekly Dinner Menu Week 33.docx, ['16HNqeTaB6EVkupDW_ENv3xLs2A7Sk3Ml']\n1G3EKm9g_x5QXEnA6xbOwit27dVPu01Js, Weekly Dinner Menu Week 48 R28 Open.docx, ['16HNqeTaB6EVkupDW_ENv3xLs2A7Sk3Ml']\n1n3z3OWL_TEP0DWBd5zZct9fabf2wV-6j, Weekly Dinner Menu Week 23.docx, ['16HNqeTaB6EVkupDW_ENv3xLs2A7Sk3Ml']\n1G7uAjm0oAtcpRSz1S5sBdjz2FjpY-Pnj, Weekly Dinner Menu Week 28.docx, ['16HNqeTaB6EVkupDW_ENv3xLs2A7Sk3Ml']\n1eNdv69WLc-r5osH34Ct_afwAx5wpvnyJ, Weekly Dinner Menu Week 45 R28 FT.docx, ['16HNqeTaB6EVkupDW_ENv3xLs2A7Sk3Ml']\n19dacqCP2gp787v9f5ysWjwPddsyVKPw5, Weekly Dinner Menu Week 57 Open.docx, ['16HNqeTaB6EVkupDW_ENv3xLs2A7Sk3Ml']\n1POCGWLpUGJjpA8vlqgLzoOAQssu8jtoR, Weekly Dinner Menu Week 51 R26.docx, ['16HNqeTaB6EVkupDW_ENv3xLs2A7Sk3Ml']\n1PuUW_k3iU4dZLFkcVJl8cQFlAF1fWEqX, Weekly Dinner Menu Week 44 R25.docx, ['16HNqeTaB6EVkupDW_ENv3xLs2A7Sk3Ml']\n1OB-k4PH5BO9_uALmjncuWqwzsvtwRp5G, Weekly Dinner Menu Week 58 R30.docx, ['16HNqeTaB6EVkupDW_ENv3xLs2A7Sk3Ml']\n1rOydxXtN_qALCAsVDsplViiDE_Rkq-SD, Weekly Dinner Menu Week 36.docx, ['16HNqeTaB6EVkupDW_ENv3xLs2A7Sk3Ml']\n1KYT0gWud6tJDJzfKeVZInDAnbbE-ZLHJ, Weekly Dinner Menu Week 27.docx, ['16HNqeTaB6EVkupDW_ENv3xLs2A7Sk3Ml']\n1ZLp1GSp0XEdcFUsOpva_-2eSl-SESFiE, Weekly Dinner Menu Week 35.docx, ['16HNqeTaB6EVkupDW_ENv3xLs2A7Sk3Ml']\n1ZZoeP7VnlCi1HBnX3mnZZcf6VjehpD0u, Weekly Dinner Menu Week 41 R34.docx, ['16HNqeTaB6EVkupDW_ENv3xLs2A7Sk3Ml']\n1XuXFHZUzWlBNJM6q_OiBSGEn8n_JtY8S, Weekly Dinner Menu Week 49 R24.docx, ['16HNqeTaB6EVkupDW_ENv3xLs2A7Sk3Ml']\n1Am8EPC2Qs4c6hXtEWuvXrzrgvhfndNKF, Weekly Dinner Menu Week 39 R24.docx, ['16HNqeTaB6EVkupDW_ENv3xLs2A7Sk3Ml']\n1nnrxYeh4bpW-sYE-XGWhtBhBu0M9fitY, Weekly Dinner Menu Week 32.docx, ['16HNqeTaB6EVkupDW_ENv3xLs2A7Sk3Ml']\n1VC-PcgIjI9XrbJFj35p4wzImP7f5zrRr, Weekly Dinner Menu Week 34.docx, ['16HNqeTaB6EVkupDW_ENv3xLs2A7Sk3Ml']\n1WlNe1qkJZ44nMpxWoluW4I22h5dA4aLQ, Weekly Dinner Menu Week 47.docx, ['16HNqeTaB6EVkupDW_ENv3xLs2A7Sk3Ml']\n1SqQ8RYbG_60bkZ76lBXp1ymincDQVr91, Weekly Dinner Menu Week 40 R29.docx, ['16HNqeTaB6EVkupDW_ENv3xLs2A7Sk3Ml']\n1TJsPbM7pQoF-r29gLkAIlDcmRJSCMPGX, Weekly Dinner Menu Week 53 R37.docx, ['16HNqeTaB6EVkupDW_ENv3xLs2A7Sk3Ml']\n15zxBDrHYwSdx6Whi1jsemPXxcG_40Po7, Weekly Dinner Menu Week 56 R26.docx, ['16HNqeTaB6EVkupDW_ENv3xLs2A7Sk3Ml']\n1XNIjkNEqGBzF5-YEkAZNZbCo198I_qF8, Weekly Dinner Menu Week 26.docx, ['16HNqeTaB6EVkupDW_ENv3xLs2A7Sk3Ml']\n18anODtEQ9sAVMqLmIGzB68-mdhMqLWBD, Weekly Dinner Menu Week 29.docx, ['16HNqeTaB6EVkupDW_ENv3xLs2A7Sk3Ml']\n1A5PrK5ARFexQNVV6X_3rOSkqjmKSQP7Y, Weekly Dinner Menu Week 41 R34 B.docx, ['16HNqeTaB6EVkupDW_ENv3xLs2A7Sk3Ml']\n1BAWx37sWWLsNYiF5EclFI5bi9u51s77C, Weekly Dinner Menu Week 25.docx, ['16HNqeTaB6EVkupDW_ENv3xLs2A7Sk3Ml']\n1z1aWj7xxhQq9Kfw14Fjgg5FxLJABGmVt, Weekly Dinner Menu Week 37 R23B.docx, ['16HNqeTaB6EVkupDW_ENv3xLs2A7Sk3Ml']\n"
     ]
    }
   ],
   "source": [
    "from __future__ import print_function\n",
    "import pickle\n",
    "from os import path\n",
    "from googleapiclient.discovery import build\n",
    "from google_auth_oauthlib.flow import InstalledAppFlow\n",
    "from google.auth.transport.requests import Request\n",
    "\n",
    "SCOPES = ['https://www.googleapis.com/auth/drive.metadata.readonly']\n",
    "folder_id = '16HNqeTaB6EVkupDW_ENv3xLs2A7Sk3Ml'\n",
    "\n",
    "creds = None\n",
    "if path.exists('token.pickle'):\n",
    "    with open('token.pickle', 'rb') as token:\n",
    "        creds = pickle.load(token)\n",
    "if not creds or not creds.valid:\n",
    "    if creds and creds.expired and creds.refresh_token:\n",
    "        creds.refresh(Request())\n",
    "    else:\n",
    "        flow = InstalledAppFlow \\\n",
    "                .from_client_secrets_file('credentials.json', SCOPES)\n",
    "        creds = flow.run_local_server(port=0)\n",
    "    with open('token.pickle', 'wb') as token:\n",
    "        pickle.dump(creds, token)\n",
    "service = build('drive', 'v3', credentials=creds)\n",
    "items = service \\\n",
    "        .files() \\\n",
    "        .list(q=f'\"{folder_id}\" in parents',\n",
    "              fields='incompleteSearch, files(id, name, parents)') \\\n",
    "        .execute() \\\n",
    "        .get('files', [])\n",
    "\n",
    "if not items:\n",
    "    print('No files found.')\n",
    "else:\n",
    "    print('Files:')\n",
    "    for item in items:\n",
    "        print(', '.join(map(str, item.values())))"
   ]
  },
  {
   "cell_type": "code",
   "execution_count": 6,
   "metadata": {},
   "outputs": [
    {
     "output_type": "stream",
     "name": "stdout",
     "text": [
      "['1b8nfNYu2M-awigqO45CZVbaR-kAVvDZN', '1tRyvywhliZTh9yQMrtCum16WL7-aF2GU']\n['1ZlRSAERHdAAX1iHVjy9qcVz3Nv5yzbXI', '1DuKI9c5mMCw3aR-UENQ230_3aOYkWMqc']\n['1bFmPNmJtDprLHQaUtXSS1U2L27xushY-', '1QU59fcXfoqJ_2y-Lhut3QFb5UfIyuNL6', '1zuTV3ITRISQMccudIJFKiKuhlCE268d1', '1gSdeDzg9CMWwlY07jZ3_yvPPvO4AUovC', '17G5S1YIrmgPXn-itG9uqT6Kzn0GgAcB3', '1WKQ8qQG6OU7qCO3ZSQ6KUj3CVtdVpuE4', '1Z7eiiNpGnBSbxloZe2J8URzjojOoqa-4', '1w5--TI2Nu6LvJ7fMosGAdEN9JFttemqy', '1ohmGOvtvEBAqiaPFDDKGcMs95SUlB1Vs', '1GPklNwmDJMF2I44iXvtdnLoML7DCQtlA', '1sDTG2vnhqrwlM0qyotmqpTfxCcFD6mDA', '1F_jJJOxeaOFJQ3wCRF-S7C5sjnvHFc3V', '1PQO0PYPe5ly91ogstanKHYXoVNz6U11C', '13TqLmYDVwKti_MYF6iNw9qsXj_mea87-', '1SB2H4NXB5gzFKyRuEC2sivBjfJDKMqg4', '1K5kJ-Lz4fUxOufAAw8PwrvfT0BRuq62f', '1ktbKwdHf_FTcO4eIb4JukJ9SQKaiqErN', '1GOPLZIVGs-SZlYxJzAZbRFyoCl6Ge2p6', '1Lh975m-sdbJD-cbB0R8ItVHDh0VTRwgi', '1vcmMfadk-n7ZdWXw7zVJPVufCp49Sgum', '18shPcvogMLYu-b9asG1V4Wxlx9hxcIRr', '1mRApaSFuWhF7oqMv3O-QX65pzGYUkQN-', '1LNaduI03DtrJUyn3VO_uq7__bP-b-WQr', '1Xuo32AEhVtga0CQHpEacuX6fziJsspq1', '17N7bR697AHCjD56CiUTaJ_KwNLOtewWT', '1H0GrAsSdhaWCXNQ4sS8VjuNaZha_yyNa', '1XB-ozFA40ST8V3yk0jPhG5tcicJ8vNhE', '1HUY0UzgqOsOz9Zld3H60LkENU5uTIVma', '19wkSGLjbZiLbV_LkJ-X34pWJwoGRA0CN', '11hTVU6gslAKgurqFgP7Z9UUP74oADhFK', '1vRasUw7D5UW8w-f8lBt1POdqWZ_rl41a', '1HA-Wdz8S_8Ayx_HSMGjBAED0IcV6mrqs', '1JwEZYvlONGsp81EAcy-4-rhHAVg5rhzq', '1AUQbJ41sb_s7FYWFywKkLzThRM7uBmAL', '1QJAs7DbjnLuiF2Ba-qj_r1aF4VBwx1hB', '1zm2E-aKUgQijfPATrOwYDnw5gMovelLe', '1L2L8HrgFc7uSJgxosWp4cZnX5c-mxWhw', '1WuGWV6Xvw1PNcTQYvZzIiwzN3nylOlHs', '1846FZFAyhVYyyK4EiefITVjH2HERW8sF', '1WHYBKx99Z0TmDZZveQk6PvO72Vi78NB-', '1jG2_CbPduaEdspYPd57Nt4Ejy84l_qKl', '1qj8PmV97SYGSzDFQmzngCtzxkAbBdjhB', '1gspGUK0R3c1PxWbyoBrVSg3B2HMiHb9H', '1bDsS4rd5jqf0hyy2LP4lG-xv4_KR3it4', '1pFydZua5Lpav7d_XqWkBcQ-P7O9f19P4', '1ZM9epcWCfyif0BLEjZBnGC1Y_UoPvJw5', '1rrzBBZLlJTSJ8fhuPoMIEOShEO3edRBD', '1hIuyA23rDn9EQydmZvLucXylxKFFFKd5', '1Imxc5ZObCkrDAr7a1OpryUND4wHjN-5d', '1-GnkHJxf-p_H7erxBbhdgoEAsUxev2QK', '1I4UKdyn-0kkgqUdav2OBW0nUM17YZTYt', '1XftVGk_V613tlkayADzl5Oq7B4wtG1-D', '1_G573YUikHcx8p2WVIjGNyEeRHNSzVoY', '1d0cR1zqNmwesUOhuhvhtEWs91qdnXQF7', '1f5YBmUhwIzSs8QYmMzrRUPchseJcoTf3', '1EdIXVHtyTdIgu8VQLkYs5qkRCaMt8nIh', '1oL8LPIcwWF5fAL-DoZBYykYKFkG17CYp', '1cyDLuTomNC_oU0QHIIPYSgTUKVNgNItM', '128Ui0iyEMm8bi-c8jHWULPgCG2nB9wLI', '1G3EKm9g_x5QXEnA6xbOwit27dVPu01Js', '1n3z3OWL_TEP0DWBd5zZct9fabf2wV-6j', '1G7uAjm0oAtcpRSz1S5sBdjz2FjpY-Pnj', '1eNdv69WLc-r5osH34Ct_afwAx5wpvnyJ', '19dacqCP2gp787v9f5ysWjwPddsyVKPw5', '1POCGWLpUGJjpA8vlqgLzoOAQssu8jtoR', '1PuUW_k3iU4dZLFkcVJl8cQFlAF1fWEqX', '1OB-k4PH5BO9_uALmjncuWqwzsvtwRp5G', '1rOydxXtN_qALCAsVDsplViiDE_Rkq-SD', '1KYT0gWud6tJDJzfKeVZInDAnbbE-ZLHJ', '1ZLp1GSp0XEdcFUsOpva_-2eSl-SESFiE', '1ZZoeP7VnlCi1HBnX3mnZZcf6VjehpD0u', '1XuXFHZUzWlBNJM6q_OiBSGEn8n_JtY8S', '1Am8EPC2Qs4c6hXtEWuvXrzrgvhfndNKF', '1nnrxYeh4bpW-sYE-XGWhtBhBu0M9fitY', '1VC-PcgIjI9XrbJFj35p4wzImP7f5zrRr', '1WlNe1qkJZ44nMpxWoluW4I22h5dA4aLQ', '1SqQ8RYbG_60bkZ76lBXp1ymincDQVr91', '1TJsPbM7pQoF-r29gLkAIlDcmRJSCMPGX', '15zxBDrHYwSdx6Whi1jsemPXxcG_40Po7', '1XNIjkNEqGBzF5-YEkAZNZbCo198I_qF8', '18anODtEQ9sAVMqLmIGzB68-mdhMqLWBD', '1A5PrK5ARFexQNVV6X_3rOSkqjmKSQP7Y', '1BAWx37sWWLsNYiF5EclFI5bi9u51s77C', '1z1aWj7xxhQq9Kfw14Fjgg5FxLJABGmVt']\n"
     ]
    }
   ],
   "source": [
    "\n",
    "old_menu_files = service\\\n",
    "                    .files()\\\n",
    "                    .list(q=f'''\"{items[0]['id']}\" in parents''',\n",
    "                          fields='incompleteSearch, files(id, name, parents)')\\\n",
    "                    .execute()\\\n",
    "                    .get('files', [])\n",
    "old_menu_ids = [file['id'] for file in old_menu_files]\n",
    "print(old_menu_ids)\n",
    "\n",
    "specialty_menu_files = service\\\n",
    "                        .files()\\\n",
    "                        .list(q=f'''\"{items[1]['id']}\" in parents''',\n",
    "                              fields='incompleteSearch, files(id, name, parents)')\\\n",
    "                        .execute()\\\n",
    "                        .get('files', [])\n",
    "specialty_menu_ids = [file['id'] for file in specialty_menu_files]\n",
    "print(specialty_menu_ids)\n",
    "\n",
    "main_menu_ids = [file['id'] for file in items[2:]]\n",
    "print(main_menu_ids)"
   ]
  },
  {
   "cell_type": "code",
   "execution_count": null,
   "metadata": {},
   "outputs": [],
   "source": [
    "main_menus = service\\\n",
    "                .files()\n",
    "                .get()"
   ]
  }
 ]
}