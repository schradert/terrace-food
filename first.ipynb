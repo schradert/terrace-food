{
 "metadata": {
  "language_info": {
   "codemirror_mode": {
    "name": "ipython",
    "version": 3
   },
   "file_extension": ".py",
   "mimetype": "text/x-python",
   "name": "python",
   "nbconvert_exporter": "python",
   "pygments_lexer": "ipython3",
   "version": "3.8.5-final"
  },
  "orig_nbformat": 2,
  "kernelspec": {
   "name": "Python 3.8.5 64-bit ('terrace-food': conda)",
   "display_name": "Python 3.8.5 64-bit ('terrace-food': conda)",
   "metadata": {
    "interpreter": {
     "hash": "400f40e1a897b372d5b423a17477b7ae080363d01dd3f6ca135635a68fc1b10d"
    }
   }
  }
 },
 "nbformat": 4,
 "nbformat_minor": 2,
 "cells": [
  {
   "cell_type": "code",
   "execution_count": 30,
   "metadata": {},
   "outputs": [
    {
     "output_type": "stream",
     "name": "stdout",
     "text": [
      "{\n    \"Monday\": [\n        \"Roasted Corn Chowder (Veg)(D)\",\n        \"Pot Roast with Mushroom Gravy (GF)\",\n        \"Jamaican Jerk Chicken Thighs (GF)\",\n        \" Vegan Fried Rice with Tofu Scramble (V)(GF)\",\n        \"Brown Rice Primavera (V)(GF)\",\n        \"Steamed Brussels Sprouts (V)(GF)\",\n        \"Tuscan Vegetable Raviolis Marinara (Veg)(D)\",\n        \"Apple Cinnamon Coffee Cake (Veg)(D)\"\n    ],\n    \"Tuesday\": [\n        \"Escarole & White Bean Soup (V)(GF)\",\n        \"Cider Baked Bone-in Chicken Breast (GF)\",\n        \"Stuffed Flounder with Vegetable Cornbread (D)\",\n        \"Soy Chicken Cacciatore (V)(GF)\",\n        \"Whipped Garlic Potatoes (Veg)(D)\",\n        \"Corn & Lima Bean Succotash (V)(GF)\",\n        \"Gemeli with Mushroom Primavera (Veg)(D)\",\n        \"Chocolate Chip Fudge Brownie (Veg)(D)\"\n    ],\n    \"Wednesday\": [\n        \"Yogurt Tomato Orzo Soup (Veg)(D)\",\n        \"Mediterranean Chicken & Feta in Pastry (D)\",\n        \"Build Your Own Gyro Sandwich\",\n        \"Tofu Moussaka with Vegan Cheese (V)(GF)\",\n        \"Pasta with Fresh Tomato & Kalamata Olives (V)\",\n        \"Tourlou Tourlou (V)(GF)\",\n        \"Baked Spanakopita Triangles (Veg)(D)\",\n        \"Greek Baklava (Veg)(D)(N)\"\n    ],\n    \"Thursday\": [],\n    \"Friday\": [],\n    \"Saturday\": [],\n    \"Sunday\": [\n        \"Lentil Spinach Soup (V)(GF)\",\n        \"Buffalo Pulled Chicken with Bleu Cheese (GF)(D)\",\n        \"Country Fried Steak with Creamy Sauce (D)\",\n        \"Cilantro Lime Grilled Tofu (V)(GF)\",\n        \"Yellow Rice Pilaf (V)(GF)\",\n        \"Steamed Broccoli Spears (V)(GF)\",\n        \"Ziti with Fennel Roasted Tomatoes (V)\",\n        \"Red Velvet Sheet Cake (Veg)(D)\"\n    ],\n    \"special\": \"Greek Dinner Night\"\n}\n"
     ]
    }
   ],
   "source": [
    "from docx import Document\n",
    "import os\n",
    "import json\n",
    "import re\n",
    "#print(os.listdir('menus/main/docx'))\n",
    "first_menu = Document('menus/main/docx/Weekly Dinner Menu Week 45 R28 FT.docx')\n",
    "text = [p.text for p in first_menu.paragraphs]\n",
    "#print(text)\n",
    "\n",
    "weekgroup = {}\n",
    "weekdays = ['Monday', 'Tuesday', 'Wednesday', 'Thursday', 'Friday', 'Saturday', 'Sunday']\n",
    "in_day = False\n",
    "current_day = ''\n",
    "count = 0\n",
    "for line in text:\n",
    "    if not in_day:\n",
    "        for day in weekdays:\n",
    "            if day in line:\n",
    "                weekgroup[day] = {'dishes':[]}\n",
    "                emdash = b'\\xe2\\x80\\x93'\n",
    "                if emdash in line.encode('utf-8'):\n",
    "                    weekgroup[day]['theme'] = line.encode('utf-8')\\\n",
    "                                                  .split(emdash)[-1]\\\n",
    "                                                  .strip()\\\n",
    "                                                  .decode('utf-8')\n",
    "                in_day = True\n",
    "                current_day = day\n",
    "                count = 1\n",
    "    else:\n",
    "        if len(line) > 0:\n",
    "            if count == 1:\n",
    "                dish_type = 'soup'\n",
    "            elif count in [2, 3, 4]:\n",
    "                dish_type = 'entree'\n",
    "            elif count in [5, 6, 7]:\n",
    "                dish_type = 'side'\n",
    "            elif count == 8:\n",
    "                dish_type = 'dessert'\n",
    "                count = 0\n",
    "            count += 1\n",
    "            weekgroup[current_day]['dishes'].append({\n",
    "                'type': dish_type,\n",
    "                'tags':\n",
    "            })\n",
    "        else:\n",
    "            in_day = False\n",
    "            current_day = ''\n",
    "\n",
    "\n",
    "print(json.dumps(weekgroup, indent=4))"
   ]
  },
  {
   "cell_type": "code",
   "execution_count": 31,
   "metadata": {},
   "outputs": [
    {
     "output_type": "stream",
     "name": "stdout",
     "text": [
      "6\nWeekly Dinner Menu Week 24B.docx\n2019-12-01\n2019-12-02\n5\nWeekly Dinner Menu Week 36.docx\n2019-04-13\n2019-04-15\n6\nWeekly Dinner Menu Week 38.docx\n2014-01-19\n2014-01-20\n"
     ]
    }
   ],
   "source": [
    "import datetime\n",
    "\n",
    "with open('menus/dates.json') as f:\n",
    "    dates = json.load(f)\n",
    "for key in dates.keys():\n",
    "    month, day, year = dates[key].split('/')\n",
    "    dates[key] = datetime.date(int('20' + year), int(month), int(day))\n",
    "for key, date in dates.items():\n",
    "    if date.weekday() != 0:\n",
    "        print(date.weekday())\n",
    "        print(key)\n",
    "        print(date)\n",
    "        dates[key] = date.replace(day=date.day + 7 - date.weekday())\n",
    "        print(dates[key])\n",
    "for key, date in dates.items():\n",
    "    if date.weekday() != 0:\n",
    "        print(key)\n",
    "        print(date)"
   ]
  },
  {
   "cell_type": "code",
   "execution_count": 39,
   "metadata": {},
   "outputs": [
    {
     "output_type": "stream",
     "name": "stdout",
     "text": [
      "                                    file        date\n14       Weekly Dinner Menu Week 16.docx  2014-01-20\n25       Weekly Dinner Menu Week 26.docx  2017-12-04\n42       Weekly Dinner Menu Week 38.docx  2014-01-20\n58   Weekly Dinner Menu Week 44 R39.docx  2020-02-24\n74   Weekly Dinner Menu Week 54 R26.docx  2017-12-04\n77   Weekly Dinner Menu Week 56 R26.docx  2020-02-24\n79  Weekly Dinner Menu Week 57 Open.docx  2019-09-09\n80   Weekly Dinner Menu Week 57 R42.docx  2019-05-20\n81       Weekly Dinner Menu Week 57.docx  2019-09-09\n83   Weekly Dinner Menu Week 58 R37.docx  2019-05-20\n"
     ]
    }
   ],
   "source": [
    "import pandas as pd\n",
    "\n",
    "dates_frame = pd.DataFrame([(k,str(v)) for k,v in dates.items()], columns=['file', 'date'])\n",
    "counts = dates_frame['date'].value_counts()\n",
    "dup_indices = counts[counts > 1].index\n",
    "print(dates_frame[dates_frame['date'].isin(dup_indices)])"
   ]
  },
  {
   "source": [
    "Weekly Dinner Menu Week 38.docx has a comment about meals returning on January 31, 2015, so the correct date is probably then 1/19/15\n",
    "\n",
    "Waiting for Steve's comment on the other ones"
   ],
   "cell_type": "markdown",
   "metadata": {}
  },
  {
   "cell_type": "code",
   "execution_count": null,
   "metadata": {},
   "outputs": [],
   "source": []
  }
 ]
}